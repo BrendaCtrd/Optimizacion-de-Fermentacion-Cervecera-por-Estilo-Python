{
 "cells": [
  {
   "cell_type": "markdown",
   "id": "12300158",
   "metadata": {},
   "source": [
    "# Optimización de Fermentación Cervecera por Estilo (Python)"
   ]
  },
  {
   "cell_type": "markdown",
   "id": "723164e3",
   "metadata": {},
   "source": [
    "Dataset Contents\n",
    "\n",
    "**Brewing Parameters**\n",
    "\n",
    "Fermentation Time (days) – Duration of fermentation for each batch.\n",
    "\n",
    "Temperature (°C) – Fermentation temperature.\n",
    "\n",
    "pH Level – Acidity measurement affecting beer flavor and stability.\n",
    "\n",
    "Gravity – Indicator of fermentation progress.\n",
    "\n",
    "Alcohol Content (% ABV) – Alcohol percentage per batch.\n",
    "\n",
    "Bitterness (IBU) – Measurement of hop bitterness.\n",
    "\n",
    "Color (EBC) – Beer color intensity based on the European Brewery Convention scale.\n",
    "\n",
    "Ingredient Ratio – Composition of raw materials in each batch.\n",
    "\n",
    "**Beer Styles & Packaging**\n",
    "\n",
    "Beer Styles – Includes IPA, Lager, Stout, Pilsner, and Wheat Beer.\n",
    "\n",
    "SKU (Stock Keeping Unit) – Packaging formats: Pints, Bottles, Cans, Kegs.\n",
    "\n",
    "Location – Sales across different regions in Bangalore.\n",
    "\n",
    "**Sales & Quality Metrics**\n",
    "\n",
    "Volume Produced (liters) – Batch-wise beer production.\n",
    "\n",
    "Total Sales (INR) – Revenue generated per batch.\n",
    "\n",
    "Quality Score – Sensory evaluation rating for each batch.\n",
    "\n",
    "**Efficiency & Loss Metrics**\n",
    "\n",
    "Brewhouse Efficiency (%) – Indicator of brewing system efficiency.\n",
    "\n",
    "Losses at Various Stages:\n",
    "\n",
    "Brewing Loss (%) – Losses due to raw material inefficiencies.\n",
    "\n",
    "Fermentation Loss (%) – Yield reduction during fermentation.\n",
    "\n",
    "Bottling/Kegging Loss (%) – Losses occurring during final packaging.\n",
    "\n",
    "Applications\n",
    "\n",
    "📌 Brewing Process Optimization – Identifying brewing conditions that improve beer quality.\n",
    "\n",
    "📌 Market Analysis – Analyzing sales trends based on beer styles and packaging choices.\n",
    "\n",
    "📌 Supply Chain Optimization – Reducing brewing and packaging losses to improve profitability.\n",
    "\n",
    "📌 Quality Control – Evaluating the impact of brewing parameters on final product consistency."
   ]
  },
  {
   "cell_type": "code",
   "execution_count": 81,
   "id": "0b001124",
   "metadata": {},
   "outputs": [
    {
     "name": "stdout",
     "output_type": "stream",
     "text": [
      "<class 'pandas.core.frame.DataFrame'>\n",
      "RangeIndex: 583 entries, 0 to 582\n",
      "Data columns (total 20 columns):\n",
      " #   Column                        Non-Null Count  Dtype  \n",
      "---  ------                        --------------  -----  \n",
      " 0   Batch_ID                      583 non-null    int64  \n",
      " 1   Brew_Date                     583 non-null    object \n",
      " 2   Beer_Style                    583 non-null    object \n",
      " 3   SKU                           583 non-null    object \n",
      " 4   Location                      583 non-null    object \n",
      " 5   Fermentation_Time             583 non-null    int64  \n",
      " 6   Temperature                   583 non-null    float64\n",
      " 7   pH_Level                      583 non-null    float64\n",
      " 8   Gravity                       583 non-null    float64\n",
      " 9   Alcohol_Content               583 non-null    float64\n",
      " 10  Bitterness                    583 non-null    int64  \n",
      " 11  Color                         583 non-null    int64  \n",
      " 12  Ingredient_Ratio              583 non-null    object \n",
      " 13  Volume_Produced               583 non-null    int64  \n",
      " 14  Total_Sales                   583 non-null    float64\n",
      " 15  Quality_Score                 583 non-null    float64\n",
      " 16  Brewhouse_Efficiency          583 non-null    float64\n",
      " 17  Loss_During_Brewing           583 non-null    float64\n",
      " 18  Loss_During_Fermentation      583 non-null    float64\n",
      " 19  Loss_During_Bottling_Kegging  583 non-null    float64\n",
      "dtypes: float64(10), int64(5), object(5)\n",
      "memory usage: 91.2+ KB\n"
     ]
    }
   ],
   "source": [
    "import pandas as pd\n",
    "import numpy as np\n",
    "\n",
    "df = pd.read_csv(\"brewery_data.csv\")  \n",
    "df.head()\n",
    "df.info()\n"
   ]
  },
  {
   "cell_type": "markdown",
   "id": "1c66d571",
   "metadata": {},
   "source": [
    "## Preparación de dataset\n",
    "\n",
    "Las fechas están en un formato de object por lo que se cambiara para ser analizado como fecha a to_datetime.\n",
    "Hay que sumar las perdidas.\n",
    "Se cambiará el ratio para que pueda ser analizado ngredient_Ratio → ratio_1, ratio_2, ratio_3 ya que al separar en 3 columnas numéricas, el modelo aprende cómo cambia la calidad/ABV cuando ajustas cada componente de la receta."
   ]
  },
  {
   "cell_type": "code",
   "execution_count": 82,
   "id": "fe949df8",
   "metadata": {},
   "outputs": [
    {
     "name": "stdout",
     "output_type": "stream",
     "text": [
      "ratio_1    float64\n",
      "ratio_2    float64\n",
      "ratio_3    float64\n",
      "dtype: object\n",
      "    ratio_1   ratio_2   ratio_3\n",
      "0  0.694444  0.229167  0.076389\n",
      "1  0.714286  0.185714  0.100000\n",
      "2  0.617284  0.277778  0.104938\n",
      "3  0.666667  0.253333  0.080000\n",
      "4  0.719424  0.201439  0.079137\n",
      "count    5.830000e+02\n",
      "mean     1.000000e+00\n",
      "std      7.863939e-17\n",
      "min      1.000000e+00\n",
      "25%      1.000000e+00\n",
      "50%      1.000000e+00\n",
      "75%      1.000000e+00\n",
      "max      1.000000e+00\n",
      "dtype: float64\n"
     ]
    }
   ],
   "source": [
    "df['Brew_Date'] = pd.to_datetime(df['Brew_Date'], errors='coerce')\n",
    "df = df.sort_values('Brew_Date').reset_index(drop=True)\n",
    "df['Month'] = df['Brew_Date'].dt.month\n",
    "df['Week']  = df['Brew_Date'].dt.isocalendar().week.astype(int)\n",
    "\n",
    "# Pérdidas totales\n",
    "df['Total_Loss'] = (\n",
    "    df['Loss_During_Brewing'] +\n",
    "    df['Loss_During_Fermentation'] +\n",
    "    df['Loss_During_Bottling_Kegging']\n",
    ")\n",
    "\n",
    "# Ingredient_Ratio  \"1:0.25:0.27\" -> ratio_1, ratio_2, ratio_3\n",
    "parts = (df['Ingredient_Ratio'].astype(str)\n",
    "         .str.replace(' ', '', regex=False)\n",
    "         .str.replace('%', '', regex=False)\n",
    "         .str.split(':', expand=True))\n",
    "\n",
    "# Asegura 3 columnas\n",
    "parts = parts.reindex(columns=range(3))\n",
    "\n",
    "# Convierte a float desde el inicio\n",
    "df['ratio_1'] = pd.to_numeric(parts[0], errors='coerce').astype('float64')\n",
    "df['ratio_2'] = pd.to_numeric(parts[1], errors='coerce').astype('float64')\n",
    "df['ratio_3'] = pd.to_numeric(parts[2], errors='coerce').astype('float64')\n",
    "\n",
    "# Normalización para que ratio_1+ratio_2+ratio_3 ≈ 1 \n",
    "ratios = df[['ratio_1','ratio_2','ratio_3']].to_numpy(dtype='float64')\n",
    "suma = np.nansum(ratios, axis=1)\n",
    "\n",
    "mask = suma > 0\n",
    "ratios[mask] = ratios[mask] / suma[mask, None]\n",
    "ratios[~mask] = np.nan  # si la suma es 0 o NaN\n",
    "\n",
    "# Reasignación\n",
    "df[['ratio_1','ratio_2','ratio_3']] = ratios\n",
    "\n",
    "\n",
    "#Confirmación\n",
    "print(df[['ratio_1','ratio_2','ratio_3']].dtypes)\n",
    "print(df[['ratio_1','ratio_2','ratio_3']].head())\n",
    "print((df[['ratio_1','ratio_2','ratio_3']].sum(axis=1)).describe())"
   ]
  },
  {
   "cell_type": "markdown",
   "id": "5ca54453",
   "metadata": {},
   "source": [
    "## 1) Definir columnas y split temporal (80/20)"
   ]
  },
  {
   "cell_type": "code",
   "execution_count": 83,
   "id": "1732ecc1",
   "metadata": {},
   "outputs": [],
   "source": [
    "cat_cols = ['Beer_Style','SKU','Location']\n",
    "num_cols = [\n",
    "    'Fermentation_Time','Temperature','pH_Level','Gravity',\n",
    "    'Bitterness','Color','Brewhouse_Efficiency',\n",
    "    'Total_Loss','Month','Week','ratio_1','ratio_2','ratio_3'\n",
    "]\n",
    "\n",
    "feature_cols   = num_cols + cat_cols\n",
    "target_quality = 'Quality_Score'\n",
    "target_abv     = 'Alcohol_Content'\n",
    "\n",
    "# Split temporal\n",
    "df = df.sort_values('Brew_Date').reset_index(drop=True)\n",
    "cut = int(len(df) * 0.8)\n",
    "train = df.iloc[:cut].copy()\n",
    "test  = df.iloc[cut:].copy()"
   ]
  },
  {
   "cell_type": "code",
   "execution_count": 84,
   "id": "39126a78",
   "metadata": {},
   "outputs": [
    {
     "name": "stdout",
     "output_type": "stream",
     "text": [
      "\n",
      "BASELINE por estilo (media del estilo en TRAIN) vs RMSE_test\n",
      "Ale         RMSE_base= 0.447\n",
      "IPA         RMSE_base= 0.662\n",
      "Lager       RMSE_base= 0.491\n",
      "Pilsner     RMSE_base= 0.470\n",
      "Porter      RMSE_base= 0.426\n",
      "Sour        RMSE_base= 0.706\n",
      "Stout       RMSE_base= 0.429\n",
      "Wheat Beer  RMSE_base= 0.397\n"
     ]
    }
   ],
   "source": [
    "print(\"\\nBASELINE por estilo (media del estilo en TRAIN) vs RMSE_test\")\n",
    "for s in styles:\n",
    "    tr_s  = train[train['Beer_Style']==s]\n",
    "    te_s  = test[test['Beer_Style']==s]\n",
    "    if len(te_s)==0 or len(tr_s)==0:\n",
    "        print(f\"{s:10s}  (sin filas suficientes)\")\n",
    "        continue\n",
    "    mu = tr_s['Quality_Score'].mean()\n",
    "    rmse_base = float(np.sqrt(((te_s['Quality_Score'] - mu)**2).mean()))\n",
    "    # aquí imprime también tu RMSE_test (el que ya calculaste arriba)\n",
    "    print(f\"{s:10s}  RMSE_base={rmse_base:6.3f}\")"
   ]
  },
  {
   "cell_type": "markdown",
   "id": "2b122c56",
   "metadata": {},
   "source": [
    "Quality_Score del train de ese estilo.\n",
    "\n",
    "Si el modelo tiene RMSE_model < RMSE_base, mejora al baseline → vale la pena usarlo para optimizar.\n",
    "\n",
    "Si RMSE_model ≥ RMSE_base, el modelo no aporta (mejor quedarse con la media).\n",
    "\n",
    "Cómo leerlo: estilos con RMSE_base más bajo (p. ej. Wheat Beer 0.397) tienen menos variabilidad en la calidad; con RMSE_base alto (p. ej. Sour 0.706) la calidad es más dispersa y será más difícil mejorar."
   ]
  },
  {
   "cell_type": "markdown",
   "id": "7df81c21",
   "metadata": {},
   "source": [
    "1) Listas de columnas + split temporal"
   ]
  },
  {
   "cell_type": "code",
   "execution_count": 85,
   "id": "efdf1c50",
   "metadata": {},
   "outputs": [],
   "source": [
    "# --- columnas (SIN ratio_3 para evitar colinealidad) ---\n",
    "cat_cols = ['Beer_Style','SKU','Location']          # categóricas\n",
    "num_cols = ['Fermentation_Time','Temperature','pH_Level','Gravity',\n",
    "            'Bitterness','Color','Brewhouse_Efficiency',\n",
    "            'Total_Loss','Month','Week','ratio_1','ratio_2']  # numéricas\n",
    "\n",
    "target_quality = 'Quality_Score'\n",
    "target_abv     = 'Alcohol_Content'\n",
    "\n",
    "# split temporal 80/20\n",
    "df = df.sort_values('Brew_Date').reset_index(drop=True)\n",
    "cut = int(len(df)*0.8)\n",
    "train = df.iloc[:cut].copy()\n",
    "test  = df.iloc[cut:].copy()"
   ]
  },
  {
   "cell_type": "markdown",
   "id": "ea7f8b5e",
   "metadata": {},
   "source": [
    "2) Modelo ABV global (RidgeCV + OHE)"
   ]
  },
  {
   "cell_type": "code",
   "execution_count": 86,
   "id": "0a15020a",
   "metadata": {},
   "outputs": [
    {
     "name": "stdout",
     "output_type": "stream",
     "text": [
      "[ABV] R2: 0.9975640646484049 | RMSE: 0.04405763438043968\n"
     ]
    }
   ],
   "source": [
    "from sklearn.compose import ColumnTransformer\n",
    "from sklearn.preprocessing import OneHotEncoder, StandardScaler\n",
    "from sklearn.pipeline import Pipeline\n",
    "from sklearn.linear_model import RidgeCV\n",
    "from sklearn.metrics import r2_score, mean_squared_error\n",
    "import numpy as np\n",
    "\n",
    "\n",
    "try:\n",
    "    ohe = OneHotEncoder(handle_unknown='ignore', sparse_output=False)\n",
    "except TypeError:\n",
    "    ohe = OneHotEncoder(handle_unknown='ignore', sparse=False)\n",
    "\n",
    "num_cols_abv = ['Fermentation_Time','Temperature','pH_Level','Gravity',\n",
    "                'Bitterness','Color','Brewhouse_Efficiency',\n",
    "                'Total_Loss','Month','Week','ratio_1','ratio_2','ratio_3']\n",
    "cat_cols_abv = ['Beer_Style','SKU','Location']\n",
    "\n",
    "pre_abv = ColumnTransformer([\n",
    "    ('num', StandardScaler(), num_cols_abv),\n",
    "    ('cat', ohe, cat_cols_abv)\n",
    "])\n",
    "\n",
    "abv_model = Pipeline([\n",
    "    ('pre', pre_abv),\n",
    "    ('reg', RidgeCV(alphas=[0.1, 1.0, 10.0, 100.0], cv=5))\n",
    "])\n",
    "\n",
    "Xtr_a = train[num_cols_abv + cat_cols_abv]\n",
    "ytr_a = train['Alcohol_Content']\n",
    "Xte_a = test[num_cols_abv + cat_cols_abv]\n",
    "yte_a = test['Alcohol_Content']\n",
    "\n",
    "abv_model.fit(Xtr_a, ytr_a)\n",
    "pred_a = abv_model.predict(Xte_a)\n",
    "\n",
    "\n",
    "try:\n",
    "    rmse = mean_squared_error(yte_a, pred_a, squared=False)  # versiones nuevas\n",
    "except TypeError:\n",
    "    rmse = mean_squared_error(yte_a, pred_a) ** 0.5          # fallback\n",
    "\n",
    "print(\"[ABV] R2:\", r2_score(yte_a, pred_a), \"| RMSE:\", rmse)\n"
   ]
  },
  {
   "cell_type": "markdown",
   "id": "eed3519f",
   "metadata": {},
   "source": [
    "Conclusión\n",
    "[ABV] R² = 0.9976 → el modelo explica el 99.76% de la variación de alcohol.\n",
    "\n",
    "RMSE = 0.044 %ABV → error promedio de 0.044 puntos de ABV, o sea, muy bajo.\n",
    "Conclusión: el modelo de ABV está listo para usarse como restricción durante la optimización."
   ]
  },
  {
   "cell_type": "markdown",
   "id": "468db3c7",
   "metadata": {},
   "source": [
    "3) Modelos por estilo para QUALITY (PolyFeatures + RidgeCV)"
   ]
  },
  {
   "cell_type": "code",
   "execution_count": 87,
   "id": "3fd70dd1",
   "metadata": {},
   "outputs": [],
   "source": [
    "from sklearn.preprocessing import PolynomialFeatures\n",
    "from sklearn.impute import SimpleImputer\n",
    "from sklearn.model_selection import TimeSeriesSplit\n",
    "\n",
    "# Preprocesador por estilo: num -> imputer -> poly(deg=2) -> scaler\n",
    "num_pipe = Pipeline([\n",
    "    ('imp', SimpleImputer(strategy='median')),\n",
    "    ('poly', PolynomialFeatures(degree=2, include_bias=False)),\n",
    "    ('scaler', StandardScaler())\n",
    "])\n",
    "\n",
    "cat_pipe = Pipeline([\n",
    "    ('imp', SimpleImputer(strategy='most_frequent')),\n",
    "    ('ohe', ohe)\n",
    "])\n",
    "\n",
    "pre_style = ColumnTransformer([\n",
    "    ('num', num_pipe, num_cols),\n",
    "    ('cat', cat_pipe, ['SKU','Location'])   # Beer_Style es constante dentro del estilo\n",
    "])\n",
    "\n",
    "def train_style_model(df_style):\n",
    "    if len(df_style) < 20:\n",
    "        return None\n",
    "    X = df_style[num_cols + ['SKU','Location']]\n",
    "    y = df_style[target_quality]\n",
    "    tscv = TimeSeriesSplit(n_splits=5)\n",
    "    pipe = Pipeline([\n",
    "        ('pre', pre_style),\n",
    "        ('reg', RidgeCV(alphas=[0.1, 1.0, 10.0, 100.0], cv=tscv))\n",
    "    ])\n",
    "    pipe.fit(X, y)\n",
    "    return pipe\n",
    "\n",
    "# entrenar por estilo en TRAIN\n",
    "styles = sorted(df['Beer_Style'].dropna().unique())\n",
    "quality_models = {}\n",
    "for s in styles:\n",
    "    m = train_style_model(train[train['Beer_Style']==s])\n",
    "    quality_models[s] = m\n"
   ]
  },
  {
   "cell_type": "markdown",
   "id": "87aeeeff",
   "metadata": {},
   "source": [
    "4) Evaluación en TEST vs baseline (por estilo)"
   ]
  },
  {
   "cell_type": "code",
   "execution_count": 88,
   "id": "cf6bd850",
   "metadata": {},
   "outputs": [
    {
     "name": "stdout",
     "output_type": "stream",
     "text": [
      "   Beer_Style  n_test  RMSE_base  RMSE_model    R2_test  mejora\n",
      "3     Pilsner      16   0.469999    0.425800   0.179236    True\n",
      "7  Wheat Beer       9   0.396615    0.541249  -1.059806   False\n",
      "2       Lager      17   0.490701    0.690836  -0.983415   False\n",
      "5        Sour      12   0.705532    0.819941  -0.388777   False\n",
      "1         IPA      17   0.661959    0.842042  -0.633017   False\n",
      "0         Ale      11   0.447438    0.923366  -3.349287   False\n",
      "4      Porter      17   0.426128    1.416350 -11.366637   False\n",
      "6       Stout      18   0.429251    1.968885 -20.273510   False\n"
     ]
    }
   ],
   "source": [
    "def rmse(y, yhat): \n",
    "    return float(np.sqrt(mean_squared_error(y, yhat)))\n",
    "\n",
    "rows = []\n",
    "for s in styles:\n",
    "    te = test[test['Beer_Style']==s]\n",
    "    tr = train[train['Beer_Style']==s]\n",
    "    if len(te)==0 or len(tr)==0 or quality_models[s] is None:\n",
    "        rows.append([s, len(te), np.nan, np.nan, np.nan, False]); continue\n",
    "\n",
    "    # baseline = media del estilo en TRAIN\n",
    "    mu = tr[target_quality].mean()\n",
    "    rmse_base = rmse(te[target_quality], np.full(len(te), mu))\n",
    "\n",
    "    # modelo\n",
    "    Xte = te[num_cols + ['SKU','Location']]\n",
    "    yte = te[target_quality]\n",
    "    yhat = quality_models[s].predict(Xte)\n",
    "    rmse_model = rmse(yte, yhat)\n",
    "    r2 = r2_score(yte, yhat)\n",
    "\n",
    "    rows.append([s, len(te), rmse_base, rmse_model, r2, rmse_model < rmse_base])\n",
    "\n",
    "res = pd.DataFrame(rows, columns=['Beer_Style','n_test','RMSE_base','RMSE_model','R2_test','mejora']) \\\n",
    "         .sort_values('RMSE_model')\n",
    "print(res)\n"
   ]
  },
  {
   "cell_type": "markdown",
   "id": "93c34725",
   "metadata": {},
   "source": [
    "Se ve que Pilsner sí mejora al baseline (mejora=True, RMSE_model 0.426 < 0.470). Eso quiere decir que sí podemos optimizar Pilsner usando:\n",
    "\n",
    "quality_models['Pilsner'] (Quality), abv_model (ABV como restricción)."
   ]
  },
  {
   "cell_type": "markdown",
   "id": "efe0a788",
   "metadata": {},
   "source": [
    "1) Rango objetivo de ABV por estilo"
   ]
  },
  {
   "cell_type": "code",
   "execution_count": 89,
   "id": "06331870",
   "metadata": {},
   "outputs": [],
   "source": [
    "abv_targets = {\n",
    "    'IPA': (5.5, 7.5), 'Lager': (4.0, 5.5), 'Stout': (4.5, 6.5),\n",
    "    'Pilsner': (4.0, 5.5), 'Wheat Beer': (4.0, 5.5),\n",
    "    'Ale': (4.5, 6.5), 'Porter': (4.0, 6.5), 'Sour': (3.0, 5.5)\n",
    "}\n"
   ]
  },
  {
   "cell_type": "markdown",
   "id": "a80b057c",
   "metadata": {},
   "source": [
    "2) Muestrea candidatos para Pilsner\n",
    "\n",
    "Numéricas dentro de rangos históricos del estilo (para no extrapolar).\n",
    "\n",
    "Receta con Dirichlet (proporciones que suman 1)."
   ]
  },
  {
   "cell_type": "code",
   "execution_count": 90,
   "id": "73e37226",
   "metadata": {},
   "outputs": [],
   "source": [
    "num_cols_quality = ['Fermentation_Time','Temperature','pH_Level','Gravity',\n",
    "                    'Bitterness','Color','Brewhouse_Efficiency',\n",
    "                    'Total_Loss','Month','Week','ratio_1','ratio_2']\n",
    "cat_cols_quality = ['SKU','Location']\n",
    "\n",
    "# para ABV (usas las 3 ratios)\n",
    "num_cols_abv = ['Fermentation_Time','Temperature','pH_Level','Gravity',\n",
    "                'Bitterness','Color','Brewhouse_Efficiency',\n",
    "                'Total_Loss','Month','Week','ratio_1','ratio_2','ratio_3']\n",
    "cat_cols_abv = ['Beer_Style','SKU','Location']\n",
    "\n",
    "def sample_pilsner_candidates(N=30000, seed=42):\n",
    "    rng = np.random.default_rng(seed)\n",
    "    tr = train[train['Beer_Style']=='Pilsner']\n",
    "\n",
    "    # rangos por estilo (para las numéricas que usa QUALITY)\n",
    "    rngs = {c: (tr[c].min(), tr[c].max()) for c in\n",
    "            ['Fermentation_Time','Temperature','pH_Level','Gravity',\n",
    "             'Bitterness','Color','Brewhouse_Efficiency','Total_Loss','Month','Week']}\n",
    "    base = {c: rng.uniform(*rngs[c], size=N) for c in rngs}\n",
    "    cand = pd.DataFrame(base)\n",
    "\n",
    "    # receta composicional (r1+r2+r3=1) vía Dirichlet\n",
    "    r_means = tr[['ratio_1','ratio_2','ratio_3']].mean().to_numpy()\n",
    "    alpha = np.clip(r_means * 80.0, 1.0, None)   # escala 80 ~ exploración moderada\n",
    "    comp = rng.dirichlet(alpha, size=N)\n",
    "    cand['ratio_1'] = comp[:,0]\n",
    "    cand['ratio_2'] = comp[:,1]\n",
    "    cand['ratio_3'] = comp[:,2]\n",
    "\n",
    "    # categóricas\n",
    "    cand['Beer_Style'] = 'Pilsner'\n",
    "    cand['SKU'] = tr['SKU'].mode()[0]\n",
    "    cand['Location'] = tr['Location'].mode()[0]\n",
    "    return cand\n"
   ]
  },
  {
   "cell_type": "markdown",
   "id": "cd54899f",
   "metadata": {},
   "source": [
    "3) Scoring con restricción de ABV\n",
    "\n",
    "Predice Quality con quality_models['Pilsner'].\n",
    "\n",
    "Predice ABV con abv_model.\n",
    "\n",
    "Penaliza fuera del rango (sube penalty_w si lo necesitas)."
   ]
  },
  {
   "cell_type": "code",
   "execution_count": 91,
   "id": "5d7b75fb",
   "metadata": {},
   "outputs": [
    {
     "name": "stdout",
     "output_type": "stream",
     "text": [
      "       Fermentation_Time  Temperature  pH_Level  Gravity  Bitterness   Color  \\\n",
      "17717             12.036        8.985     3.989    1.199      27.503  10.427   \n",
      "10112             17.553       11.477     5.071    1.211      31.446   9.318   \n",
      "14508             15.720       14.469     4.982    1.201      37.552   9.895   \n",
      "7890              14.879        8.160     4.965    1.181      38.323   7.307   \n",
      "16510             17.023       13.538     5.187    1.200      21.493  10.846   \n",
      "\n",
      "       Brewhouse_Efficiency  Total_Loss  ratio_1  ratio_2  ABV_pred  \\\n",
      "17717                82.155      10.369    0.497    0.351     5.152   \n",
      "10112                82.266       7.173    0.505    0.361     5.467   \n",
      "14508                77.722       8.778    0.457    0.410     4.893   \n",
      "7890                 82.648       5.789    0.504    0.389     4.751   \n",
      "16510                82.376       5.765    0.502    0.361     5.189   \n",
      "\n",
      "       Quality_pred   Score  \n",
      "17717        10.326  10.326  \n",
      "10112        10.296  10.296  \n",
      "14508        10.295  10.295  \n",
      "7890         10.294  10.294  \n",
      "16510        10.292  10.292  \n"
     ]
    }
   ],
   "source": [
    "def optimize_pilsner(N=30000, penalty_w=12.0, gamma_loss=0.0, top_k=5, seed=42):\n",
    "    cand = sample_pilsner_candidates(N=N, seed=seed)\n",
    "\n",
    "    # predicciones\n",
    "    yq = quality_models['Pilsner'].predict(cand[num_cols_quality + cat_cols_quality])\n",
    "    ya = abv_model.predict(cand[num_cols_abv + cat_cols_abv])\n",
    "\n",
    "    # penalización ABV fuera de rango\n",
    "    lo, hi = abv_targets['Pilsner']\n",
    "    pen = np.zeros_like(ya)\n",
    "    pen += np.clip(lo - ya, 0, None)\n",
    "    pen += np.clip(ya - hi, 0, None)\n",
    "\n",
    "    # score final (resta pérdidas si gamma_loss>0)\n",
    "    score = yq - penalty_w*pen - gamma_loss*cand['Total_Loss'].to_numpy()\n",
    "\n",
    "    idx = np.argsort(-score)[:top_k]\n",
    "    out = cand.iloc[idx].copy()\n",
    "    out['Quality_pred'] = yq[idx]\n",
    "    out['ABV_pred']     = ya[idx]\n",
    "    out['Score']        = score[idx]\n",
    "    cols_show = ['Fermentation_Time','Temperature','pH_Level','Gravity',\n",
    "                 'Bitterness','Color','Brewhouse_Efficiency','Total_Loss',\n",
    "                 'ratio_1','ratio_2','ABV_pred','Quality_pred','Score']\n",
    "    return out[cols_show].round(3)\n",
    "\n",
    "top5_pils = optimize_pilsner(N=30000, penalty_w=12.0, gamma_loss=0.0, top_k=5, seed=7)\n",
    "print(top5_pils)\n"
   ]
  },
  {
   "cell_type": "markdown",
   "id": "90f65c24",
   "metadata": {},
   "source": [
    "Calidad predicha prácticamente empatada (10.29–10.33).\n",
    "\n",
    "Pérdidas varían bastante:\n",
    "\n",
    "Ej. el #1 tiene Total_Loss ≈ 10.37, mientras el #5 tiene ≈ 5.77 con solo 0.034 puntos menos de Quality_pred.\n",
    "\n",
    "👉 Si buscas equilibrio proceso–calidad, yo elegiría el candidato 5 (índice 16510 ):\n",
    "Time ~17.0 d, Temp ~13.5 °C, pH ~5.19, Gravity ~1.200, IBU ~21.5, Color ~10.85, ratio_1 ≈ 0.502, ratio_2 ≈ 0.361\n",
    "con ABV_pred ~5.19% y Total_Loss ~5.77. Es casi la misma calidad que el #1 pero con pérdidas mucho menores."
   ]
  },
  {
   "cell_type": "markdown",
   "id": "8257e67b",
   "metadata": {},
   "source": [
    "A) Congelar el candidato y guardarlo"
   ]
  },
  {
   "cell_type": "code",
   "execution_count": 92,
   "id": "2bad0dab",
   "metadata": {},
   "outputs": [
    {
     "name": "stdout",
     "output_type": "stream",
     "text": [
      "Fermentation_Time       12.036\n",
      "Temperature              8.985\n",
      "pH_Level                 3.989\n",
      "Gravity                  1.199\n",
      "Bitterness              27.503\n",
      "Color                   10.427\n",
      "Brewhouse_Efficiency    82.155\n",
      "Total_Loss              10.369\n",
      "ratio_1                  0.497\n",
      "ratio_2                  0.351\n",
      "ratio_3                  0.152\n",
      "ABV_pred                 5.152\n",
      "Quality_pred            10.326\n",
      "Score                   10.326\n",
      "Name: 17717, dtype: float64\n"
     ]
    }
   ],
   "source": [
    "best = top5_pils.iloc[0].copy()\n",
    "best['ratio_3'] = 1 - best['ratio_1'] - best['ratio_2']\n",
    "best_sheet = best[['Fermentation_Time','Temperature','pH_Level','Gravity',\n",
    "                   'Bitterness','Color','Brewhouse_Efficiency','Total_Loss',\n",
    "                   'ratio_1','ratio_2','ratio_3','ABV_pred','Quality_pred','Score']]\n",
    "print(best_sheet.round(3))\n",
    "best_sheet.to_frame().to_csv(\"Pilsner_setpoints_max_quality.csv\")\n"
   ]
  },
  {
   "cell_type": "markdown",
   "id": "2fed584b",
   "metadata": {},
   "source": [
    "B) Chequeo rápido de robustez local (±5 %)"
   ]
  },
  {
   "cell_type": "code",
   "execution_count": 93,
   "id": "1663b973",
   "metadata": {},
   "outputs": [
    {
     "name": "stdout",
     "output_type": "stream",
     "text": [
      "             variable perturbación  ΔQuality      ΔABV\n",
      "9          Bitterness          +5%  0.000452  0.000196\n",
      "8          Bitterness          -5% -0.000423 -0.000196\n",
      "11              Color          +5%  0.019130 -0.000775\n",
      "10              Color          -5% -0.019017  0.000775\n",
      "1   Fermentation_Time          +5%  0.000121 -0.000780\n",
      "0   Fermentation_Time          -5% -0.000118  0.000780\n",
      "7             Gravity          +5%  0.081341  1.459554\n",
      "6             Gravity          -5% -0.079861 -1.459554\n",
      "3         Temperature          +5% -0.005858  0.000030\n",
      "2         Temperature          -5%  0.005818 -0.000030\n",
      "5            pH_Level          +5%  0.001684  0.000240\n",
      "4            pH_Level          -5% -0.001807 -0.000240\n",
      "13            ratio_1          +5% -0.015645  0.001543\n",
      "12            ratio_1          -5%  0.015496 -0.001543\n",
      "15            ratio_2          +5%  0.032951  0.001850\n",
      "14            ratio_2          -5% -0.032651 -0.001850\n"
     ]
    }
   ],
   "source": [
    "import numpy as np\n",
    "import pandas as pd\n",
    "\n",
    "# ——— 1) Recupera el candidato COMPLETO (con Month/Week, SKU, Location, Beer_Style)\n",
    "SEED_USED = 7\n",
    "N_USED = 30000\n",
    "cand_ref = sample_pilsner_candidates(N=N_USED, seed=SEED_USED)\n",
    "best_idx = int(best.name)          # <- 17717 en tu salida\n",
    "best_full = cand_ref.loc[best_idx].copy()\n",
    "\n",
    "# Columnas que usan los modelos\n",
    "num_cols_quality = ['Fermentation_Time','Temperature','pH_Level','Gravity',\n",
    "                    'Bitterness','Color','Brewhouse_Efficiency',\n",
    "                    'Total_Loss','Month','Week','ratio_1','ratio_2']\n",
    "cat_cols_quality = ['SKU','Location']\n",
    "\n",
    "num_cols_abv = ['Fermentation_Time','Temperature','pH_Level','Gravity',\n",
    "                'Bitterness','Color','Brewhouse_Efficiency',\n",
    "                'Total_Loss','Month','Week','ratio_1','ratio_2','ratio_3']\n",
    "cat_cols_abv = ['Beer_Style','SKU','Location']\n",
    "\n",
    "def predict_quality_abv_from_row(row):\n",
    "    Xq = pd.DataFrame([row[num_cols_quality + cat_cols_quality]])\n",
    "    Qa = quality_models['Pilsner'].predict(Xq)[0]\n",
    "    Xa = pd.DataFrame([row[num_cols_abv + cat_cols_abv]])\n",
    "    Ab = abv_model.predict(Xa)[0]\n",
    "    return Qa, Ab\n",
    "\n",
    "def adjust_ratios(r1, r2):\n",
    "    # Mantén 0<=r1,r2 y suma<1; r3 = 1 - r1 - r2\n",
    "    r1 = max(0.0, float(r1)); r2 = max(0.0, float(r2))\n",
    "    s = r1 + r2\n",
    "    if s >= 0.999:\n",
    "        r1 *= 0.999/s; r2 *= 0.999/s\n",
    "    r3 = 1.0 - r1 - r2\n",
    "    return r1, r2, r3\n",
    "\n",
    "# ——— 2) Sensibilidad ±5% en variables clave\n",
    "vars_to_probe = ['Fermentation_Time','Temperature','pH_Level','Gravity',\n",
    "                 'Bitterness','Color','ratio_1','ratio_2']\n",
    "\n",
    "rows = []\n",
    "Q0, A0 = predict_quality_abv_from_row(best_full)\n",
    "for var in vars_to_probe:\n",
    "    for sign,label in [(-1,'-5%'),(+1,'+5%')]:\n",
    "        cand = best_full.copy()\n",
    "        step = 0.05 * float(cand[var]) if float(cand[var]) != 0 else 0.05\n",
    "        cand[var] = float(cand[var]) + sign*step\n",
    "        if var in ('ratio_1','ratio_2'):\n",
    "            cand['ratio_1'], cand['ratio_2'], cand['ratio_3'] = adjust_ratios(cand['ratio_1'], cand['ratio_2'])\n",
    "        Q1, A1 = predict_quality_abv_from_row(cand)\n",
    "        rows.append([var, label, Q1 - Q0, A1 - A0])\n",
    "\n",
    "sens = pd.DataFrame(rows, columns=['variable','perturbación','ΔQuality','ΔABV']) \\\n",
    "         .sort_values(['variable','perturbación'])\n",
    "print(sens)\n"
   ]
  },
  {
   "cell_type": "markdown",
   "id": "3712801e",
   "metadata": {},
   "source": [
    "Gravity: es la palanca más peligrosa.\n",
    "+5% ⇒ ΔQuality ≈ +0.081, pero ΔABV ≈ +1.46% → saca el Pilsner del rango (5.15% → ~6.6%).\n",
    "Conclusión: mantén Gravity ~1.199 muy estricta (variación <1%). Es el principal driver del ABV.\n",
    "\n",
    "ratio_2 (segundo componente de receta): subirlo mejora calidad (ΔQ ≈ +0.033) y casi no cambia ABV (±0.002).\n",
    "Buen “knob” para afinar calidad sin tocar el alcohol.\n",
    "\n",
    "ratio_1: subirlo empeora calidad (ΔQ ≈ −0.016) y apenas toca ABV.\n",
    "Bájalo si necesitas compensar el aumento de ratio_2 (y mantén suma=1).\n",
    "\n",
    "Temperature: subir ~5% (≈ +0.45 °C) mejora calidad (ΔQ ≈ +0.015) con impacto mínimo en ABV.\n",
    "Útil para afinar, dentro del rango de estilo/sabor.\n",
    "\n",
    "Color: subir ~5% mejora calidad (ΔQ ≈ +0.019) con efecto casi nulo en ABV (ligero negativo).\n",
    "Ojo con mantenerte en el intervalo típico de Pilsner (EBC ~6–12).\n",
    "\n",
    "pH, Bitterness, Fermentation_Time: efectos muy pequeños en calidad y ABV en ±5% alrededor de este punto.\n",
    "Mantenlos cerca del set actual.\n",
    "\n",
    "Recomendación operativa (max calidad, manteniendo ABV ≈5.15%)\n",
    "\n",
    "Tomar un candidato y hacer micro-ajustes “seguros”:\n",
    "\n",
    "Temperature: +5% → ~9.4 °C\n",
    "\n",
    "Color: +5% → ~10.95 EBC\n",
    "\n",
    "ratio_2: +3–5% (y baja ratio_1 la misma fracción; ratio_3 = 1 − r1 − r2)\n",
    "\n",
    "Gravity: no mover (apunta a 1.199 ±0.3%)\n",
    "\n",
    "Por la sensibilidad, estos cambios sumarían aprox ΔQuality ≈ +0.06–0.07 y ΔABV ≈ ~0.00 (los pequeños +/− de temp/color/ratio_2 casi se cancelan). Es decir, se mantiene el alcohol del estilo y rasca un poquito más de calidad."
   ]
  },
  {
   "cell_type": "markdown",
   "id": "1cca89f0",
   "metadata": {},
   "source": [
    "Validación"
   ]
  },
  {
   "cell_type": "code",
   "execution_count": 94,
   "id": "38fe1c87",
   "metadata": {},
   "outputs": [
    {
     "name": "stdout",
     "output_type": "stream",
     "text": [
      "Quality_pred nueva: 10.38818115723511  | ABV_pred nuevo: 5.151183194982944\n"
     ]
    }
   ],
   "source": [
    "cand = best_full.copy()\n",
    "\n",
    "# micro-ajustes “seguros”\n",
    "cand['Temperature'] *= 1.05\n",
    "cand['Color']       *= 1.05\n",
    "cand['ratio_2']     *= 1.05\n",
    "# compensa en ratio_1 para mantener suma=1\n",
    "cand['ratio_1']     *= 0.95  # o ajusta con la función adjust_ratios\n",
    "cand['ratio_1'], cand['ratio_2'], cand['ratio_3'] = adjust_ratios(cand['ratio_1'], cand['ratio_2'])\n",
    "\n",
    "Q_new, A_new = predict_quality_abv_from_row(cand)\n",
    "print(\"Quality_pred nueva:\", Q_new, \" | ABV_pred nuevo:\", A_new)"
   ]
  },
  {
   "cell_type": "code",
   "execution_count": 95,
   "id": "175619e7",
   "metadata": {},
   "outputs": [
    {
     "name": "stdout",
     "output_type": "stream",
     "text": [
      "                                               0\n",
      "Recipe_ID             Pilsner_MAXQ_20250922_1713\n",
      "Beer_Style                               Pilsner\n",
      "Fermentation_Time                         12.036\n",
      "Temperature                                9.434\n",
      "pH_Level                                   3.989\n",
      "Gravity                                    1.199\n",
      "Bitterness                                27.503\n",
      "Color                                     10.948\n",
      "Brewhouse_Efficiency                      82.155\n",
      "Total_Loss                                10.369\n",
      "ratio_1                                    0.472\n",
      "ratio_2                                    0.368\n",
      "ratio_3                                     0.16\n",
      "ABV_pred                                   5.151\n",
      "Quality_pred                              10.388\n"
     ]
    }
   ],
   "source": [
    "from datetime import datetime\n",
    "final = cand.copy()  # 'cand' es tu candidato ajustado\n",
    "final['ratio_3'] = 1 - float(final['ratio_1']) - float(final['ratio_2'])\n",
    "\n",
    "cols = ['Fermentation_Time','Temperature','pH_Level','Gravity',\n",
    "        'Bitterness','Color','Brewhouse_Efficiency','Total_Loss',\n",
    "        'ratio_1','ratio_2','ratio_3']\n",
    "\n",
    "sheet = pd.DataFrame([{\n",
    "    'Recipe_ID': f\"Pilsner_MAXQ_{datetime.now():%Y%m%d_%H%M}\",\n",
    "    'Beer_Style': 'Pilsner',\n",
    "    **{c: round(float(final[c]), 3) for c in cols},\n",
    "    'ABV_pred': round(float(A_new), 3),        # de tu última predicción\n",
    "    'Quality_pred': round(float(Q_new), 3)\n",
    "}])\n",
    "\n",
    "print(sheet.T)  # vista rápida\n",
    "sheet.to_csv(\"Pilsner_brew_sheet_MAX_QUALITY_v2.csv\", index=False)"
   ]
  },
  {
   "cell_type": "markdown",
   "id": "cec23fa2",
   "metadata": {},
   "source": [
    "#  Conclusión\n",
    "\n",
    "Se desarrolló un flujo reproducible para optimizar la calidad de cerveza por estilo con datos reales de producción. El modelo de ABV (RidgeCV con OHE+escalado) logró R² = 0.9976 y RMSE = 0.044 %ABV, suficiente para imponer una restricción confiable en la optimización. Para Quality_Score, se entrenaron modelos por estilo (PolynomialFeatures grado 2 + RidgeCV con validación temporal). Solo Pilsner superó a su baseline (RMSE_test 0.426 vs 0.470), por lo que se procedió a optimizarlo.\n",
    "\n",
    "Mediante muestreo Monte Carlo (30k candidatos) con receta composicional (Dirichlet) y penalización por salir del rango de ABV del estilo, se obtuvo un TOP-5 de condiciones. Se seleccionó el set-point de máxima calidad y, con un análisis de sensibilidad ±5%, se aplicaron micro-ajustes seguros (↑Temperatura, ↑Color, ↑ratio_2; ↓ratio_1; Gravity estable). El resultado final mejoró la predicción de calidad de 10.326 → 10.388 manteniendo ABV_pred ≈ 5.151% dentro del rango de Pilsner (4.0–5.5%). Esto entrega una hoja de proceso operable (brew sheet) y una metodología clara para repetir en otros estilos.\n",
    "\n",
    "Implicaciones y recomendaciones\n",
    "\n",
    "Gravity es la palanca crítica (mueve fuertemente el ABV); debe controlarse con estrecha tolerancia.\n",
    "\n",
    "Cambios moderados en Temperatura, Color y ratio_2 pueden elevar calidad sin afectar el ABV.\n",
    "\n",
    "Los demás estilos no superaron su baseline; probablemente requieren mayor flexibilidad del modelo o más variables de proceso.\n",
    "\n",
    "Limitaciones\n",
    "\n",
    "La calidad sensorial es ruidosa y estilo-dependiente; faltan variables (levadura/lote, oxígeno, nutrientes, tiempos intermedios).\n",
    "\n",
    "Los modelos se calibran dentro de rangos históricos; evitar extrapolar fuera de ellos.\n",
    "\n",
    "Siguientes pasos\n",
    "\n",
    "Validar en un lote piloto el set-point final y registrar resultados reales (ABV, OG/FG, panel).\n",
    "\n",
    "Re-entrenar incorporando esos lotes (mejora continua).\n",
    "\n",
    "Para estilos sin mejora: probar grado 3, ampliar alphas, o añadir la feature abv_delta (desvío al centro del rango).\n",
    "\n",
    "(Opcional) Introducir penalización por pérdidas para construir un frente calidad–eficiencia.\n",
    "\n",
    "En síntesis, el proyecto entrega un MVP robusto: modelado fiable de ABV, un modelo útil de calidad para Pilsner y una ruta práctica de optimización que ya produjo un set-point de mayor calidad manteniendo el estilo."
   ]
  },
  {
   "cell_type": "markdown",
   "id": "f1d46d40",
   "metadata": {},
   "source": []
  }
 ],
 "metadata": {
  "kernelspec": {
   "display_name": "Python 3",
   "language": "python",
   "name": "python3"
  },
  "language_info": {
   "codemirror_mode": {
    "name": "ipython",
    "version": 3
   },
   "file_extension": ".py",
   "mimetype": "text/x-python",
   "name": "python",
   "nbconvert_exporter": "python",
   "pygments_lexer": "ipython3",
   "version": "3.13.3"
  }
 },
 "nbformat": 4,
 "nbformat_minor": 5
}
